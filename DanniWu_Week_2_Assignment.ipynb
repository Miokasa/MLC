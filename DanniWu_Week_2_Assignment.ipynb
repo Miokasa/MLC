{
  "cells": [
    {
      "cell_type": "markdown",
      "metadata": {
        "id": "view-in-github",
        "colab_type": "text"
      },
      "source": [
        "<a href=\"https://colab.research.google.com/github/Miokasa/MLC/blob/master/DanniWu_Week_2_Assignment.ipynb\" target=\"_parent\"><img src=\"https://colab.research.google.com/assets/colab-badge.svg\" alt=\"Open In Colab\"/></a>"
      ]
    },
    {
      "cell_type": "markdown",
      "id": "315a4062",
      "metadata": {
        "id": "315a4062"
      },
      "source": [
        "# My first Collab assignment"
      ]
    },
    {
      "cell_type": "code",
      "execution_count": 1,
      "id": "9e1395ee",
      "metadata": {
        "colab": {
          "base_uri": "https://localhost:8080/"
        },
        "id": "9e1395ee",
        "outputId": "1ca45c07-cb33-46c9-84a0-fff7f312ed47"
      },
      "outputs": [
        {
          "output_type": "stream",
          "name": "stdout",
          "text": [
            "Hello Collab!\n"
          ]
        }
      ],
      "source": [
        "print('Hello Collab!')"
      ]
    },
    {
      "cell_type": "code",
      "execution_count": 2,
      "id": "a1790038",
      "metadata": {
        "colab": {
          "base_uri": "https://localhost:8080/"
        },
        "id": "a1790038",
        "outputId": "40e636d1-2ffa-4c27-dfbd-42e53a6636c5"
      },
      "outputs": [
        {
          "output_type": "stream",
          "name": "stdout",
          "text": [
            "[1, 2, 3, 4, 5, 6, 7, 8, 9, 10]\n"
          ]
        }
      ],
      "source": [
        "print(list(range(1,11)))"
      ]
    },
    {
      "cell_type": "markdown",
      "id": "254f563e",
      "metadata": {
        "id": "254f563e"
      },
      "source": [
        "1. There are several ways to uplad notebook from drive or github or recent files.\n",
        "2. From jupyter to colab: download files form jupyter notebook to local, and the open file in the collab,click, file-upload-browse.\n",
        "3. Create new notebook: open file-new notebook in drive.\n",
        "4. Save notebook copy to git: connect woth github account, select repository and branch. Note: changes made on collab wont directly as changing in github. You should do the same process of copy to github and then will be synchronous.\n",
        "5. Save notebook copy as a github gist:it's a quick way to share a snippet without to create a new repository.\n",
        "6. Mounting: is a process by chich an operating system would make the files and directories on a storage device or an external source, like a hard drive or USB.In this way, mounting is connecting GoogleDrive to collab environment so can access files stored in Drive which comes from local system.\n",
        "7. If want to detach the mounting point, type the code'drive.flush_and_unmount'"
      ]
    },
    {
      "cell_type": "code",
      "execution_count": 1,
      "id": "03ed1e63",
      "metadata": {
        "colab": {
          "base_uri": "https://localhost:8080/"
        },
        "collapsed": true,
        "id": "03ed1e63",
        "outputId": "f00e0db1-c7f7-4639-d604-d5f270952046"
      },
      "outputs": [
        {
          "output_type": "stream",
          "name": "stdout",
          "text": [
            "\n"
          ]
        }
      ],
      "source": [
        "import tensorflow as tf\n",
        "print(tf.test.gpu_device_name())"
      ]
    },
    {
      "cell_type": "code",
      "source": [
        "from google.colab import drive\n",
        "drive.mount('/content/drive')"
      ],
      "metadata": {
        "colab": {
          "base_uri": "https://localhost:8080/"
        },
        "id": "Ea_3agYUNUpj",
        "outputId": "e7357609-afde-4773-eec6-3d53b9e6728a"
      },
      "id": "Ea_3agYUNUpj",
      "execution_count": 5,
      "outputs": [
        {
          "output_type": "stream",
          "name": "stdout",
          "text": [
            "Mounted at /content/drive\n"
          ]
        }
      ]
    },
    {
      "cell_type": "code",
      "source": [
        "%cd /content/drive/MyDrive/\n",
        "!ls"
      ],
      "metadata": {
        "colab": {
          "base_uri": "https://localhost:8080/"
        },
        "id": "TfXcfyXbNboT",
        "outputId": "092a2e25-fc86-4034-ccf6-416022ec6794"
      },
      "id": "TfXcfyXbNboT",
      "execution_count": 8,
      "outputs": [
        {
          "output_type": "stream",
          "name": "stdout",
          "text": [
            "/content/drive/MyDrive\n",
            "'2024 FCST_Spread_File - J_2024.02.21.xlsm'\n",
            " Book1JW.xlsx\n",
            " Book1RC.xlsx\n",
            " B文件.gsheet\n",
            "'Colab Notebooks'\n",
            "'CTQ Feb 22.docx'\n",
            "'CTQ Feb 26.docx'\n",
            "'Daily Rehearsal - JW Marriott Hotel Macau 20240202.pdf'\n",
            "'Daily Rehearsal - JW Marriott Hotel Macau 20240207.pdf'\n",
            "'Daily Rehearsal - JW Marriott Hotel Macau 20240210.pdf'\n",
            "'Daily Rehearsal - JW Marriott Hotel Macau 20240215.pdf'\n",
            "'Daily Rehearsal - JW Marriott Hotel Macau 20240221.pdf'\n",
            "'Daily Rehearsal - JW Marriott Hotel Macau 20240225.pdf'\n",
            "'Daily Rehearsal - JW Marriott Hotel Macau 20240226.pdf'\n",
            "'Finance Wendy Wu to HR.pptx'\n",
            "'Group Discussion Day Handout（副本）.gdoc'\n",
            "'Job Description - Accounting Assistant.docx'\n",
            "'Job Description - Accounting Assistant (GL).docx'\n",
            "'Job Description - Accounting Manager - Hotel Operation.pdf'\n",
            "'Job Description - Internship (Share).docx'\n",
            "'SOP Book1.xlsx'\n",
            "'Under the epidemic: The affection in Macau Tourism.gsite'\n",
            " 遛狗师.gsite\n"
          ]
        }
      ]
    },
    {
      "cell_type": "code",
      "source": [
        "!git clone https://github.com/Miokasa/MLC"
      ],
      "metadata": {
        "colab": {
          "base_uri": "https://localhost:8080/"
        },
        "id": "5eE2qif0OLY_",
        "outputId": "57e140c8-0b92-455c-cef9-345029e0c1eb"
      },
      "id": "5eE2qif0OLY_",
      "execution_count": 11,
      "outputs": [
        {
          "output_type": "stream",
          "name": "stdout",
          "text": [
            "Cloning into 'MLC'...\n",
            "remote: Enumerating objects: 18, done.\u001b[K\n",
            "remote: Counting objects: 100% (18/18), done.\u001b[K\n",
            "remote: Compressing objects: 100% (17/17), done.\u001b[K\n",
            "remote: Total 18 (delta 1), reused 12 (delta 0), pack-reused 0 (from 0)\u001b[K\n",
            "Receiving objects: 100% (18/18), done.\n",
            "Resolving deltas: 100% (1/1), done.\n"
          ]
        }
      ]
    },
    {
      "cell_type": "code",
      "source": [
        "%cd MLC\n",
        "\n",
        "!ls"
      ],
      "metadata": {
        "colab": {
          "base_uri": "https://localhost:8080/"
        },
        "id": "2mRuXFIGOayb",
        "outputId": "fd2ea840-7fe6-4986-ca1f-7458d969b216"
      },
      "id": "2mRuXFIGOayb",
      "execution_count": 14,
      "outputs": [
        {
          "output_type": "stream",
          "name": "stdout",
          "text": [
            "/content/drive/MyDrive/MLC\n",
            "Untitled1.ipynb\n"
          ]
        }
      ]
    }
  ],
  "metadata": {
    "kernelspec": {
      "display_name": "Python 3 (ipykernel)",
      "language": "python",
      "name": "python3"
    },
    "language_info": {
      "codemirror_mode": {
        "name": "ipython",
        "version": 3
      },
      "file_extension": ".py",
      "mimetype": "text/x-python",
      "name": "python",
      "nbconvert_exporter": "python",
      "pygments_lexer": "ipython3",
      "version": "3.10.9"
    },
    "colab": {
      "provenance": [],
      "include_colab_link": true
    }
  },
  "nbformat": 4,
  "nbformat_minor": 5
}