{
  "nbformat": 4,
  "nbformat_minor": 0,
  "metadata": {
    "colab": {
      "provenance": [],
      "include_colab_link": true
    },
    "kernelspec": {
      "name": "python3",
      "display_name": "Python 3"
    },
    "language_info": {
      "name": "python"
    }
  },
  "cells": [
    {
      "cell_type": "markdown",
      "metadata": {
        "id": "view-in-github",
        "colab_type": "text"
      },
      "source": [
        "<a href=\"https://colab.research.google.com/github/Miokasa/MLC/blob/master/numpy_week_3_IS597.ipynb\" target=\"_parent\"><img src=\"https://colab.research.google.com/assets/colab-badge.svg\" alt=\"Open In Colab\"/></a>"
      ]
    },
    {
      "cell_type": "code",
      "execution_count": 5,
      "metadata": {
        "id": "PPCgYxJ-q3qK"
      },
      "outputs": [],
      "source": []
    },
    {
      "cell_type": "markdown",
      "source": [
        "* Performance\n",
        "* Convenience\n",
        "* Interopearble"
      ],
      "metadata": {
        "id": "Zp3VLVstssA7"
      }
    },
    {
      "cell_type": "code",
      "source": [
        "import numpy as np\n",
        "np.__version__"
      ],
      "metadata": {
        "id": "5IuVEs-vLFTy",
        "colab": {
          "base_uri": "https://localhost:8080/",
          "height": 35
        },
        "outputId": "b2e60342-5f1a-4d8d-ff79-d9da2ce2cb07"
      },
      "execution_count": 6,
      "outputs": [
        {
          "output_type": "execute_result",
          "data": {
            "text/plain": [
              "'1.26.4'"
            ],
            "application/vnd.google.colaboratory.intrinsic+json": {
              "type": "string"
            }
          },
          "metadata": {},
          "execution_count": 6
        }
      ]
    },
    {
      "cell_type": "code",
      "source": [
        "l = [1,2,3,4,5]\n",
        "\n",
        "array = np.array(l)\n",
        "\n",
        "array"
      ],
      "metadata": {
        "id": "H8g1q-Knrkxc",
        "colab": {
          "base_uri": "https://localhost:8080/"
        },
        "outputId": "db65d143-03c0-46c0-c826-e9ad0d418ba4"
      },
      "execution_count": 7,
      "outputs": [
        {
          "output_type": "execute_result",
          "data": {
            "text/plain": [
              "array([1, 2, 3, 4, 5])"
            ]
          },
          "metadata": {},
          "execution_count": 7
        }
      ]
    },
    {
      "cell_type": "code",
      "source": [
        "t = (1,2,3,4,5)\n",
        "\n",
        "array_2 = np.array(t)\n",
        "\n",
        "array_2\n",
        "\n",
        "array_3 = np.arange(10)\n",
        "\n",
        "array_3\n",
        "\n",
        "array_4 = np.arange(0,10,2)\n",
        "\n",
        "array_4\n",
        "\n"
      ],
      "metadata": {
        "id": "3xDGkOJpmMjT",
        "colab": {
          "base_uri": "https://localhost:8080/"
        },
        "outputId": "f5e928fc-d9c7-47a2-f570-e914c90030fb"
      },
      "execution_count": 8,
      "outputs": [
        {
          "output_type": "execute_result",
          "data": {
            "text/plain": [
              "array([0, 2, 4, 6, 8])"
            ]
          },
          "metadata": {},
          "execution_count": 8
        }
      ]
    },
    {
      "cell_type": "code",
      "source": [
        "type(array)\n",
        "\n",
        "array.shape\n",
        "\n",
        "array_2d = np.array([[1,2,3],[4,5,26]])\n",
        "\n",
        "array_2d.shape\n",
        "\n",
        "\n",
        "zeros_array = np.zeros((3,4))\n",
        "zeros_array"
      ],
      "metadata": {
        "id": "GMmVmr9OqZ3I",
        "colab": {
          "base_uri": "https://localhost:8080/"
        },
        "outputId": "a7139a5d-68dd-4d8c-ee9b-95b7ba13b465"
      },
      "execution_count": 9,
      "outputs": [
        {
          "output_type": "execute_result",
          "data": {
            "text/plain": [
              "array([[0., 0., 0., 0.],\n",
              "       [0., 0., 0., 0.],\n",
              "       [0., 0., 0., 0.]])"
            ]
          },
          "metadata": {},
          "execution_count": 9
        }
      ]
    },
    {
      "cell_type": "code",
      "source": [
        "ones_array = np.ones((5,6))\n",
        "ones_array"
      ],
      "metadata": {
        "id": "EVHrJiFBt2FH",
        "colab": {
          "base_uri": "https://localhost:8080/"
        },
        "outputId": "0351181f-4a50-4e89-f4c6-40b7af86e00f"
      },
      "execution_count": 10,
      "outputs": [
        {
          "output_type": "execute_result",
          "data": {
            "text/plain": [
              "array([[1., 1., 1., 1., 1., 1.],\n",
              "       [1., 1., 1., 1., 1., 1.],\n",
              "       [1., 1., 1., 1., 1., 1.],\n",
              "       [1., 1., 1., 1., 1., 1.],\n",
              "       [1., 1., 1., 1., 1., 1.]])"
            ]
          },
          "metadata": {},
          "execution_count": 10
        }
      ]
    },
    {
      "cell_type": "code",
      "source": [
        "np.linspace(0,1,9)"
      ],
      "metadata": {
        "id": "_QLLDZC8uEIY",
        "colab": {
          "base_uri": "https://localhost:8080/"
        },
        "outputId": "5afd498c-f901-40d0-b891-fea6a4532c6b"
      },
      "execution_count": 11,
      "outputs": [
        {
          "output_type": "execute_result",
          "data": {
            "text/plain": [
              "array([0.   , 0.125, 0.25 , 0.375, 0.5  , 0.625, 0.75 , 0.875, 1.   ])"
            ]
          },
          "metadata": {},
          "execution_count": 11
        }
      ]
    },
    {
      "cell_type": "code",
      "source": [
        "full_array = np.full((3,4), 11)\n",
        "\n",
        "full_array\n",
        "\n",
        "\n",
        "np.eye(7)\n",
        "\n",
        "np.diag([1,2,3,4,5,6])"
      ],
      "metadata": {
        "id": "b419ma9GvFYL",
        "colab": {
          "base_uri": "https://localhost:8080/"
        },
        "outputId": "fb82f5f8-0448-4345-d3df-91496c8caa13"
      },
      "execution_count": 12,
      "outputs": [
        {
          "output_type": "execute_result",
          "data": {
            "text/plain": [
              "array([[1, 0, 0, 0, 0, 0],\n",
              "       [0, 2, 0, 0, 0, 0],\n",
              "       [0, 0, 3, 0, 0, 0],\n",
              "       [0, 0, 0, 4, 0, 0],\n",
              "       [0, 0, 0, 0, 5, 0],\n",
              "       [0, 0, 0, 0, 0, 6]])"
            ]
          },
          "metadata": {},
          "execution_count": 12
        }
      ]
    },
    {
      "cell_type": "code",
      "source": [
        "array1 = np.array([1,2,3,4,5])\n",
        "array2 = np.array([6,7,8,9,10])\n",
        "\n",
        "sum_array = np.add(array1, array2)\n",
        "sum_array\n",
        "\n",
        "np.subtract(array1, array2)\n",
        "\n",
        "np.multiply(array1, array2)\n",
        "\n",
        "np.divide(array1, array2)\n",
        "\n",
        "\n",
        "\n"
      ],
      "metadata": {
        "id": "zwU2JEpcAeFf",
        "colab": {
          "base_uri": "https://localhost:8080/"
        },
        "outputId": "968c4358-1451-49c3-d2d5-0cfea0f861cf"
      },
      "execution_count": 13,
      "outputs": [
        {
          "output_type": "execute_result",
          "data": {
            "text/plain": [
              "array([0.16666667, 0.28571429, 0.375     , 0.44444444, 0.5       ])"
            ]
          },
          "metadata": {},
          "execution_count": 13
        }
      ]
    },
    {
      "cell_type": "code",
      "source": [
        "A = np.array([[1,2,3],[4,5,6]]) # 2,3\n",
        "\n",
        "B = np.array([1,2, 3]) # 1,3\n",
        "\n",
        "C= np.add(A,B)\n",
        "\n",
        "C\n"
      ],
      "metadata": {
        "id": "pGf-X7AZzNDC",
        "colab": {
          "base_uri": "https://localhost:8080/"
        },
        "outputId": "118bfab2-b875-461f-e801-29e824bfbfa5"
      },
      "execution_count": 14,
      "outputs": [
        {
          "output_type": "execute_result",
          "data": {
            "text/plain": [
              "array([[2, 4, 6],\n",
              "       [5, 7, 9]])"
            ]
          },
          "metadata": {},
          "execution_count": 14
        }
      ]
    },
    {
      "cell_type": "code",
      "source": [
        "np.sqrt(B)\n",
        "\n",
        "np.exp(B)\n",
        "\n",
        "np.log(B)\n",
        "\n",
        "np.sum(B)"
      ],
      "metadata": {
        "id": "jc_bC7Ri0o_Y",
        "colab": {
          "base_uri": "https://localhost:8080/"
        },
        "outputId": "a812018c-1ccc-4777-a120-18423e6abebb"
      },
      "execution_count": 15,
      "outputs": [
        {
          "output_type": "execute_result",
          "data": {
            "text/plain": [
              "6"
            ]
          },
          "metadata": {},
          "execution_count": 15
        }
      ]
    },
    {
      "cell_type": "code",
      "source": [
        "array = np.array([1,2,3,4])\n",
        "\n",
        "array[2]\n",
        "\n",
        "array[1]\n",
        "\n",
        "array[-1]\n",
        "\n",
        "array_2d = np.array([[1,2,3],[4,5,6],[7,8,9]])\n",
        "\n",
        "array_2d\n",
        "\n",
        "#(x,y) = (1,2)\n",
        "\n",
        "array_2d[1,2]\n",
        "\n",
        "array_2d[2,2] = 99\n",
        "\n",
        "array_2d\n",
        "\n",
        "\n",
        "slice_1d = array[1:3]\n",
        "\n",
        "slice_1d\n",
        "\n",
        "slice_2d = array_2d[0:2, 1:3]\n",
        "\n",
        "slice_2d\n",
        "\n",
        "step_slice = array[::2]\n",
        "\n",
        "step_slice\n",
        "\n",
        "negative_slice = array[-4:-1]\n",
        "\n",
        "negative_slice\n",
        "\n",
        "\n",
        "bool_index = array > 3\n",
        "bool_index\n",
        "\n",
        "\n",
        "array[1:3] = [21,31]\n",
        "array\n",
        "\n",
        "fancy_index = array[[0,1,3]]\n",
        "fancy_index\n",
        "\n",
        "fancy_index_2d = array_2d[[0,2],[1,2]]\n",
        "fancy_index_2d\n"
      ],
      "metadata": {
        "id": "E7JwvED66M_J",
        "colab": {
          "base_uri": "https://localhost:8080/"
        },
        "outputId": "18f21668-4296-4831-8414-aff0d489c5d1"
      },
      "execution_count": 16,
      "outputs": [
        {
          "output_type": "execute_result",
          "data": {
            "text/plain": [
              "array([ 2, 99])"
            ]
          },
          "metadata": {},
          "execution_count": 16
        }
      ]
    },
    {
      "cell_type": "code",
      "source": [
        "array = np.arange(1,13)\n",
        "\n",
        "reshaped_array = array.reshape((3,4))\n",
        "\n",
        "reshaped_array\n",
        "\n",
        "\n",
        "flattened_array = reshaped_array.flatten()\n",
        "flattened_array\n",
        "\n",
        "\n",
        "\n",
        "array1= np.array([[1,2],[3,4]])\n",
        "array2= np.array([[5,6],[7,8]])\n",
        "concatenated_array = np.concatenate((array1,array2), axis=0)\n",
        "\n",
        "concatenated_array\n",
        "\n",
        "concatenated_array = np.concatenate((array1,array2), axis=1)\n",
        "concatenated_array\n"
      ],
      "metadata": {
        "id": "uizjyAQ6-uY-",
        "colab": {
          "base_uri": "https://localhost:8080/"
        },
        "outputId": "e6710538-235d-4037-aa2a-b51b9c699c3c"
      },
      "execution_count": 17,
      "outputs": [
        {
          "output_type": "execute_result",
          "data": {
            "text/plain": [
              "array([[1, 2, 5, 6],\n",
              "       [3, 4, 7, 8]])"
            ]
          },
          "metadata": {},
          "execution_count": 17
        }
      ]
    },
    {
      "cell_type": "code",
      "source": [
        "split_array = np.split(array, 4)\n",
        "split_array\n",
        "\n",
        "split_array_2d = np.split(reshaped_array, 2, axis=1)\n",
        "split_array_2d"
      ],
      "metadata": {
        "id": "1_SNDv3GBiGN",
        "colab": {
          "base_uri": "https://localhost:8080/"
        },
        "outputId": "21b9f9e6-2cf9-4210-edd2-9b94e9067d2c"
      },
      "execution_count": 18,
      "outputs": [
        {
          "output_type": "execute_result",
          "data": {
            "text/plain": [
              "[array([[ 1,  2],\n",
              "        [ 5,  6],\n",
              "        [ 9, 10]]),\n",
              " array([[ 3,  4],\n",
              "        [ 7,  8],\n",
              "        [11, 12]])]"
            ]
          },
          "metadata": {},
          "execution_count": 18
        }
      ]
    },
    {
      "cell_type": "code",
      "source": [
        "np.mean(array)\n",
        "\n",
        "np.median(array)\n",
        "\n",
        "np.std(array)\n",
        "\n",
        "np.var(array)\n",
        "\n",
        "np.min(array), np.max(array)\n",
        "\n",
        "np.percentile(array, 85)\n",
        "\n",
        "\n",
        "\n"
      ],
      "metadata": {
        "id": "PhWuwppvCiu6",
        "colab": {
          "base_uri": "https://localhost:8080/"
        },
        "outputId": "b781947b-db77-4f6c-93d0-958ebea2dc7a"
      },
      "execution_count": 21,
      "outputs": [
        {
          "output_type": "execute_result",
          "data": {
            "text/plain": [
              "10.35"
            ]
          },
          "metadata": {},
          "execution_count": 21
        }
      ]
    },
    {
      "cell_type": "code",
      "source": [
        "vector_a = np.array([1,2,3])\n",
        "vector_b = np.array([4,5,6])\n",
        "dot_product = np.dot(vector_a, vector_b)\n",
        "\n",
        "dot_product\n",
        "\n",
        "\n",
        "\n",
        "matrix_a = np.array([[1,2],[3,4]])\n",
        "matrix_b = np.array([[5,6],[7,8]])\n",
        "product = np.matmul(matrix_a, matrix_b)\n",
        "\n",
        "product\n",
        "\n"
      ],
      "metadata": {
        "id": "A6-ln5HsC9GJ",
        "colab": {
          "base_uri": "https://localhost:8080/"
        },
        "outputId": "c1303f94-0a6c-4a3f-8b74-57b99237cbce"
      },
      "execution_count": 22,
      "outputs": [
        {
          "output_type": "execute_result",
          "data": {
            "text/plain": [
              "array([[19, 22],\n",
              "       [43, 50]])"
            ]
          },
          "metadata": {},
          "execution_count": 22
        }
      ]
    },
    {
      "cell_type": "code",
      "source": [
        "structured_array = np.array([(1,'Alice',25), (2,'Bob', 30), (3, 'Charlie', 35)], dtype= [('id','i4'), ('name','U10'), ('age','i4')])\n",
        "\n",
        "structured_array\n",
        "\n",
        "structured_array['id']\n",
        "structured_array['name']\n",
        "structured_array['age']\n",
        "\n",
        "structured_array['age'] = [45, 21, 18]\n",
        "\n",
        "structured_array\n",
        "\n",
        "\n",
        "sorted_array = np.sort(structured_array, order='age')\n",
        "\n",
        "sorted_array\n",
        "\n",
        "\n",
        "filtered_array = structured_array[structured_array['age']>20]\n",
        "filtered_array\n",
        "\n"
      ],
      "metadata": {
        "id": "pXwYYSi0EPy2",
        "colab": {
          "base_uri": "https://localhost:8080/"
        },
        "outputId": "9316b6d5-7173-456a-a295-45ad3728a143"
      },
      "execution_count": 23,
      "outputs": [
        {
          "output_type": "execute_result",
          "data": {
            "text/plain": [
              "array([(1, 'Alice', 45), (2, 'Bob', 21)],\n",
              "      dtype=[('id', '<i4'), ('name', '<U10'), ('age', '<i4')])"
            ]
          },
          "metadata": {},
          "execution_count": 23
        }
      ]
    },
    {
      "cell_type": "code",
      "source": [
        "data = [{'id':1, 'name': 'Alice', 'age': 25},\n",
        "        {'id':2, 'name': 'Bob', 'age': 35}]\n",
        "\n",
        "ids = [item['id'] for item in data]\n",
        "names = [item['name'] for item in data]\n",
        "ages = [item['age'] for item in data]\n",
        "\n",
        "stru_array_from_dict= np.array(list(zip(ids, names, ages)), dtype=[('id','i4'), ('name', 'U10'), ('age', 'i4')])\n",
        "stru_array_from_dict"
      ],
      "metadata": {
        "id": "vE5x28OkJFPC",
        "colab": {
          "base_uri": "https://localhost:8080/"
        },
        "outputId": "b23a7d39-a5fe-4213-b219-b4d541fef1b8"
      },
      "execution_count": 24,
      "outputs": [
        {
          "output_type": "execute_result",
          "data": {
            "text/plain": [
              "array([(1, 'Alice', 25), (2, 'Bob', 35)],\n",
              "      dtype=[('id', '<i4'), ('name', '<U10'), ('age', '<i4')])"
            ]
          },
          "metadata": {},
          "execution_count": 24
        }
      ]
    }
  ]
}