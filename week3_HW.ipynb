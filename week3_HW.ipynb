{
  "nbformat": 4,
  "nbformat_minor": 0,
  "metadata": {
    "colab": {
      "provenance": [],
      "authorship_tag": "ABX9TyML8SlIHp6PYsQCRmKrzopD",
      "include_colab_link": true
    },
    "kernelspec": {
      "name": "python3",
      "display_name": "Python 3"
    },
    "language_info": {
      "name": "python"
    }
  },
  "cells": [
    {
      "cell_type": "markdown",
      "metadata": {
        "id": "view-in-github",
        "colab_type": "text"
      },
      "source": [
        "<a href=\"https://colab.research.google.com/github/Miokasa/MLC/blob/master/week3_HW.ipynb\" target=\"_parent\"><img src=\"https://colab.research.google.com/assets/colab-badge.svg\" alt=\"Open In Colab\"/></a>"
      ]
    },
    {
      "cell_type": "code",
      "execution_count": 1,
      "metadata": {
        "id": "YVUnIbOByTZo"
      },
      "outputs": [],
      "source": [
        "import numpy as np"
      ]
    },
    {
      "cell_type": "markdown",
      "source": [
        "The company has provided you with\n",
        "synthetic data representing delivery times (in minutes) and package weights (in kilograms) for\n",
        "100 deliveries.\n",
        "\n",
        "Tasks:\n",
        "Task 1: Data Preparation\n",
        "1. Generate two 1D arrays:\n",
        "- delivery_times: 100 random integers between 30 and 120 (inclusive).\n",
        "- package_weights: 100 random floats between 0.5 and 10.0 (inclusive, rounded to two\n",
        "decimal places).\n",
        "(Use np.random.randint and np.random.uniform for this task. )\n",
        "2. Combine these arrays into a single 2D array called data where:\n",
        "- The first column represents delivery times.\n",
        "- The second column represents package weights."
      ],
      "metadata": {
        "id": "jUp6ZiS_zKb0"
      }
    },
    {
      "cell_type": "code",
      "source": [
        "delivery_times=np.random.randint(low=30,high=121,size=100) #high is not included\n",
        "package_weights=np.round(np.random.uniform(low=0.5,high=10.0,size=100),2)  #high is included\n",
        "data=np.column_stack((delivery_times,package_weights)) #np.column_stack((a,b)) is better than np.concatenate((a,b),axis=0)\n",
        "print(data.shape)\n",
        "data[:5]"
      ],
      "metadata": {
        "colab": {
          "base_uri": "https://localhost:8080/"
        },
        "id": "EBRTptqHzXJz",
        "outputId": "0baa3eea-d3cd-488b-a6e9-8e01bed73001"
      },
      "execution_count": 2,
      "outputs": [
        {
          "output_type": "stream",
          "name": "stdout",
          "text": [
            "(100, 2)\n"
          ]
        },
        {
          "output_type": "execute_result",
          "data": {
            "text/plain": [
              "array([[ 53.  ,   1.39],\n",
              "       [114.  ,   1.44],\n",
              "       [ 58.  ,   4.16],\n",
              "       [107.  ,   4.29],\n",
              "       [ 84.  ,   4.93]])"
            ]
          },
          "metadata": {},
          "execution_count": 2
        }
      ]
    },
    {
      "cell_type": "markdown",
      "source": [
        "Task 2: Basic Statistics\n",
        "1. Calculate the following statistics for delivery times:\n",
        "- Mean, median, standard deviation, and maximum value.\n",
        "2. Calculate the following statistics for package weights:\n",
        "- Mean, minimum value, and range (max - min).\n",
        "3. Identify how many deliveries took more than 90 minutes."
      ],
      "metadata": {
        "id": "25BbK7DXzX9J"
      }
    },
    {
      "cell_type": "code",
      "source": [
        "data_mean=np.mean(data[:,0])\n",
        "data_median=np.median(data[:,0])\n",
        "data_std=np.std(data[:,0])\n",
        "data_max=np.max(data[:,0])\n",
        "data_min=np.min(data[:,0])\n",
        "print(f'Statistics for delivery times: Mean:{data_mean}, Median:{data_median}, Standard Deviation:{data_std}, Maximum value:{data_max}')"
      ],
      "metadata": {
        "colab": {
          "base_uri": "https://localhost:8080/"
        },
        "id": "uxhlJWU3zac_",
        "outputId": "794ff486-acc3-4f30-9053-0c2d4eb2b83b"
      },
      "execution_count": 6,
      "outputs": [
        {
          "output_type": "stream",
          "name": "stdout",
          "text": [
            "Statistics for delivery times: Mean:77.4, Median:74.0, Standard Deviation:23.30364778312614, Maximum value:118.0\n"
          ]
        }
      ]
    },
    {
      "cell_type": "code",
      "source": [
        "data_mean2=np.mean(data[:,1])\n",
        "data_max2=np.max(data[:,1])\n",
        "data_min2=np.min(data[:,1])\n",
        "data_range2=np.subtract(data_max2,data_min2)\n",
        "print(f'Statistics for package weights: Mean:{data_mean2}, Manimum value:{data_min2}, Rnage:{data_range2}')"
      ],
      "metadata": {
        "colab": {
          "base_uri": "https://localhost:8080/"
        },
        "outputId": "4198cd99-a350-4a0e-a3bf-3d31336fe324",
        "id": "5vG8kbmI8JEM"
      },
      "execution_count": 7,
      "outputs": [
        {
          "output_type": "stream",
          "name": "stdout",
          "text": [
            "Statistics for package weights: Mean:5.402700000000002, Manimum value:0.55, Rnage:9.29\n"
          ]
        }
      ]
    },
    {
      "cell_type": "code",
      "source": [
        "deliveries_more_than_90 = data[data[:,0]>90]\n",
        "numbers=deliveries_more_than_90.shape[0]\n",
        "print(f'There are {numbers} deliveries took more than 90 minutes. ')"
      ],
      "metadata": {
        "colab": {
          "base_uri": "https://localhost:8080/"
        },
        "id": "SIa-X73l75Y4",
        "outputId": "5e5dff78-ee43-4647-9371-68fb968f3fbb"
      },
      "execution_count": 9,
      "outputs": [
        {
          "output_type": "stream",
          "name": "stdout",
          "text": [
            "There are 37 deliveries took more than 90 minutes. \n"
          ]
        }
      ]
    },
    {
      "cell_type": "markdown",
      "source": [
        "Task 3: Filtering and Logical Indexing\n",
        "1. Create a new array heavy_packages containing only rows where the package weight\n",
        "exceeds 5 kg.\n",
        "2. From heavy_packages, identify how many deliveries took less than or equal to 60 minutes."
      ],
      "metadata": {
        "id": "OOiyPUgxza8s"
      }
    },
    {
      "cell_type": "code",
      "source": [
        "heavy_packages=np.array(data[data[:,1]>5])\n",
        "deliveries_less_or_equal_60 = heavy_packages[heavy_packages[:,0]<=60]\n",
        "nums = deliveries_less_or_equal_60.shape[0]\n",
        "print(f'There are {nums} deliveries took less than or equal to 60 minutes.')"
      ],
      "metadata": {
        "colab": {
          "base_uri": "https://localhost:8080/"
        },
        "id": "6BEIt2GvzdIZ",
        "outputId": "6a4495f5-9c81-45d7-8c4c-47617d6e29d1"
      },
      "execution_count": 11,
      "outputs": [
        {
          "output_type": "stream",
          "name": "stdout",
          "text": [
            "There are 16 deliveries took less than or equal to 60 minutes.\n"
          ]
        }
      ]
    },
    {
      "cell_type": "markdown",
      "source": [
        "Task 4: Data Transformation\n",
        "1. Normalize the delivery times in data (scale values between 0 and 1). Add the normalized\n",
        "values as a third column in the array.\n",
        "2. Sort the rows of data by package weight in descending order."
      ],
      "metadata": {
        "id": "AW-irXT4zdi9"
      }
    },
    {
      "cell_type": "code",
      "source": [
        "times_normalized = (data[:,0] - data_min) / (data_max - data_min) # using the formula\n",
        "data=np.column_stack((data,times_normalized))\n",
        "data[:5]"
      ],
      "metadata": {
        "colab": {
          "base_uri": "https://localhost:8080/"
        },
        "id": "LkaY5tw8zfh9",
        "outputId": "22712b71-38bd-4544-8735-0accb422961a"
      },
      "execution_count": 12,
      "outputs": [
        {
          "output_type": "execute_result",
          "data": {
            "text/plain": [
              "array([[ 53.        ,   1.39      ,   0.22619048],\n",
              "       [114.        ,   1.44      ,   0.95238095],\n",
              "       [ 58.        ,   4.16      ,   0.28571429],\n",
              "       [107.        ,   4.29      ,   0.86904762],\n",
              "       [ 84.        ,   4.93      ,   0.5952381 ]])"
            ]
          },
          "metadata": {},
          "execution_count": 12
        }
      ]
    },
    {
      "cell_type": "code",
      "source": [
        "new=data[np.argsort(data[:,1])[::-1]] #argsort can give the sorted index, and [::-1]can reverse the index by descenting order.\n",
        "new[:5]"
      ],
      "metadata": {
        "colab": {
          "base_uri": "https://localhost:8080/"
        },
        "id": "wJ0V7a3WzfqH",
        "outputId": "f736c80e-9373-4cdf-ef96-3122b83ba2cf"
      },
      "execution_count": 13,
      "outputs": [
        {
          "output_type": "execute_result",
          "data": {
            "text/plain": [
              "array([[ 68.        ,   9.84      ,   0.4047619 ],\n",
              "       [104.        ,   9.83      ,   0.83333333],\n",
              "       [ 70.        ,   9.74      ,   0.42857143],\n",
              "       [ 84.        ,   9.67      ,   0.5952381 ],\n",
              "       [ 74.        ,   9.6       ,   0.47619048]])"
            ]
          },
          "metadata": {},
          "execution_count": 13
        }
      ]
    },
    {
      "cell_type": "markdown",
      "source": [
        "Task 5: Advanced Analysis\n",
        "1. Group the data into three categories based on delivery times:\n",
        "- Category A: delivery time <= 60\n",
        "- Category B: 60 < delivery time <= 90\n",
        "- Category C: delivery time > 90\n",
        "Create a new array categories where each row contains the category label (A, B, or C)\n",
        "corresponding to each delivery.\n",
        "2. Calculate the average package weight for each category."
      ],
      "metadata": {
        "id": "wOU1YrQlzf6N"
      }
    },
    {
      "cell_type": "code",
      "source": [
        "data=np.column_stack((delivery_times,package_weights)) # Stack delivery times and package weights into a 2D array\n",
        "categories = [] #store labels based on delivery times in order\n",
        "for time in data[:, 0]:\n",
        "    if time <= 60:\n",
        "        categories.append('A')\n",
        "    elif 60 < time <= 90:\n",
        "        categories.append('B')\n",
        "    else:\n",
        "        categories.append('C')\n",
        "\n",
        "categories_array=np.array(categories)  # Convert the list of categories into a numpy array\n",
        "data=np.column_stack((data,categories_array))  # Add the categories as a third column\n",
        "print(data.shape)\n",
        "print(data[:5])"
      ],
      "metadata": {
        "colab": {
          "base_uri": "https://localhost:8080/"
        },
        "id": "WOvsVw-ob7dz",
        "outputId": "bd0497a4-68b6-4cbd-9c4e-874e9a3aff18"
      },
      "execution_count": 21,
      "outputs": [
        {
          "output_type": "stream",
          "name": "stdout",
          "text": [
            "(100, 3)\n",
            "[['107.0' '1.01' 'C']\n",
            " ['85.0' '0.65' 'B']\n",
            " ['48.0' '3.18' 'A']\n",
            " ['52.0' '9.59' 'A']\n",
            " ['99.0' '5.83' 'C']]\n"
          ]
        }
      ]
    },
    {
      "cell_type": "code",
      "source": [
        "mean_A=np.mean(package_weights[np.array(categories) == 'A'])\n",
        "mean_B=np.mean(package_weights[np.array(categories) == 'B'])\n",
        "mean_C=np.mean(package_weights[np.array(categories) == 'C'])\n",
        "\n",
        "print(f\"Category A average weight: {mean_A:.2f}\")\n",
        "print(f\"Category B average weight: {mean_B:.2f}\")\n",
        "print(f\"Category C average weight: {mean_C:.2f}\")"
      ],
      "metadata": {
        "colab": {
          "base_uri": "https://localhost:8080/"
        },
        "id": "bXyWGGcdfYVV",
        "outputId": "9ee97a9f-8d14-4124-d3de-be0f8602c7e8"
      },
      "execution_count": 22,
      "outputs": [
        {
          "output_type": "stream",
          "name": "stdout",
          "text": [
            "Category A average weight: 5.78\n",
            "Category B average weight: 4.92\n",
            "Category C average weight: 5.75\n"
          ]
        }
      ]
    },
    {
      "cell_type": "markdown",
      "source": [
        "Hints:\n",
        "- Use slicing (:) and logical conditions (> , < , etc.) for filtering data.\n",
        "- For normalization, use the formula: x_normalized = (x - x_min) / (x_max - x_min).\n",
        "- To sort rows by a specific column, use np.argsort."
      ],
      "metadata": {
        "id": "7NzfV5KkzjJZ"
      }
    }
  ]
}