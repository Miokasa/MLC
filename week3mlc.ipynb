{
  "nbformat": 4,
  "nbformat_minor": 0,
  "metadata": {
    "colab": {
      "provenance": [],
      "authorship_tag": "ABX9TyML1cIhO82T3Z9zXXwfs5J/",
      "include_colab_link": true
    },
    "kernelspec": {
      "name": "python3",
      "display_name": "Python 3"
    },
    "language_info": {
      "name": "python"
    }
  },
  "cells": [
    {
      "cell_type": "markdown",
      "metadata": {
        "id": "view-in-github",
        "colab_type": "text"
      },
      "source": [
        "<a href=\"https://colab.research.google.com/github/Miokasa/MLC/blob/master/week3mlc.ipynb\" target=\"_parent\"><img src=\"https://colab.research.google.com/assets/colab-badge.svg\" alt=\"Open In Colab\"/></a>"
      ]
    },
    {
      "cell_type": "code",
      "execution_count": 1,
      "metadata": {
        "colab": {
          "base_uri": "https://localhost:8080/",
          "height": 35
        },
        "id": "TEOwZ6-usCkg",
        "outputId": "9951ebde-d56b-4912-d4ad-e0f6db7fef77"
      },
      "outputs": [
        {
          "output_type": "execute_result",
          "data": {
            "text/plain": [
              "'1.26.4'"
            ],
            "application/vnd.google.colaboratory.intrinsic+json": {
              "type": "string"
            }
          },
          "metadata": {},
          "execution_count": 1
        }
      ],
      "source": [
        "import numpy as np\n",
        "np.__version__"
      ]
    },
    {
      "cell_type": "code",
      "source": [
        "!pip install numpy\n",
        "!conda install numpy  #从外界环境下载shell command 要加！，不是本地的cloud或者jupyter带的"
      ],
      "metadata": {
        "id": "CiVIr5rIsMac"
      },
      "execution_count": null,
      "outputs": []
    },
    {
      "cell_type": "code",
      "source": [
        "list1=[1,2,3,4,5]\n",
        "array1=np.array(list1)\n",
        "array1"
      ],
      "metadata": {
        "colab": {
          "base_uri": "https://localhost:8080/"
        },
        "id": "dy6q1EMltKIO",
        "outputId": "382eaeed-fd38-46ae-8e2c-71e22b8ebc22"
      },
      "execution_count": null,
      "outputs": [
        {
          "output_type": "execute_result",
          "data": {
            "text/plain": [
              "array([1, 2, 3, 4, 5])"
            ]
          },
          "metadata": {},
          "execution_count": 3
        }
      ]
    },
    {
      "cell_type": "code",
      "source": [
        "t=(1,2,3,4,5)\n",
        "array2=np.array(t)\n",
        "array2"
      ],
      "metadata": {
        "colab": {
          "base_uri": "https://localhost:8080/"
        },
        "id": "veAiz2oqKQo2",
        "outputId": "a0511501-b679-475c-8dc2-4d8c7e842220"
      },
      "execution_count": null,
      "outputs": [
        {
          "output_type": "execute_result",
          "data": {
            "text/plain": [
              "array([1, 2, 3, 4, 5])"
            ]
          },
          "metadata": {},
          "execution_count": 9
        }
      ]
    },
    {
      "cell_type": "code",
      "source": [
        "array3=np.arange(10)\n",
        "array3"
      ],
      "metadata": {
        "colab": {
          "base_uri": "https://localhost:8080/"
        },
        "id": "I72mpa9QtjP9",
        "outputId": "a5854c52-1f71-407c-a698-8d2fc2b533ab"
      },
      "execution_count": null,
      "outputs": [
        {
          "output_type": "execute_result",
          "data": {
            "text/plain": [
              "array([0, 1, 2, 3, 4, 5, 6, 7, 8, 9])"
            ]
          },
          "metadata": {},
          "execution_count": 6
        }
      ]
    },
    {
      "cell_type": "code",
      "source": [
        "array4=np.arange(0,10,2)\n",
        "array4"
      ],
      "metadata": {
        "colab": {
          "base_uri": "https://localhost:8080/"
        },
        "id": "iPJAtDR0Hc2W",
        "outputId": "48a7dd3a-df4b-4e57-9852-601ebd952134"
      },
      "execution_count": null,
      "outputs": [
        {
          "output_type": "execute_result",
          "data": {
            "text/plain": [
              "array([0, 2, 4, 6, 8])"
            ]
          },
          "metadata": {},
          "execution_count": 7
        }
      ]
    },
    {
      "cell_type": "code",
      "source": [
        "type(array2)"
      ],
      "metadata": {
        "colab": {
          "base_uri": "https://localhost:8080/"
        },
        "id": "x8xv8gtKLKEy",
        "outputId": "f7eeae49-967a-4182-b0f7-cd6735037280"
      },
      "execution_count": null,
      "outputs": [
        {
          "output_type": "execute_result",
          "data": {
            "text/plain": [
              "(5,)"
            ]
          },
          "metadata": {},
          "execution_count": 11
        }
      ]
    },
    {
      "cell_type": "code",
      "source": [
        "array2.shape"
      ],
      "metadata": {
        "colab": {
          "base_uri": "https://localhost:8080/"
        },
        "id": "oX_n4skNPagu",
        "outputId": "89365087-8331-489e-bfaf-736861ca52aa"
      },
      "execution_count": null,
      "outputs": [
        {
          "output_type": "execute_result",
          "data": {
            "text/plain": [
              "(5,)"
            ]
          },
          "metadata": {},
          "execution_count": 12
        }
      ]
    },
    {
      "cell_type": "code",
      "source": [
        "array_2d=np.array([[1,2,3],[4,5,6]])\n",
        "array_2d.shape"
      ],
      "metadata": {
        "colab": {
          "base_uri": "https://localhost:8080/"
        },
        "id": "0_M4BmLAPxC-",
        "outputId": "3b3e85fc-2f73-4571-bd74-f9983c2d2c40"
      },
      "execution_count": null,
      "outputs": [
        {
          "output_type": "execute_result",
          "data": {
            "text/plain": [
              "(2, 3)"
            ]
          },
          "metadata": {},
          "execution_count": 16
        }
      ]
    },
    {
      "cell_type": "code",
      "source": [
        "zero_array=np.zeros((3,4))\n",
        "zero_array"
      ],
      "metadata": {
        "id": "pXT1IcfXP8Ne",
        "colab": {
          "base_uri": "https://localhost:8080/"
        },
        "outputId": "2b09d713-72df-44a8-aa57-98a049849e74"
      },
      "execution_count": null,
      "outputs": [
        {
          "output_type": "execute_result",
          "data": {
            "text/plain": [
              "array([[0., 0., 0., 0.],\n",
              "       [0., 0., 0., 0.],\n",
              "       [0., 0., 0., 0.]])"
            ]
          },
          "metadata": {},
          "execution_count": 4
        }
      ]
    },
    {
      "cell_type": "code",
      "source": [
        "ones_array=np.ones((3,6))\n",
        "ones_array"
      ],
      "metadata": {
        "colab": {
          "base_uri": "https://localhost:8080/"
        },
        "id": "66RB0OEdtKQW",
        "outputId": "b521c8b6-9635-487e-d2f4-edfcedf8151a"
      },
      "execution_count": null,
      "outputs": [
        {
          "output_type": "execute_result",
          "data": {
            "text/plain": [
              "array([[1., 1., 1., 1., 1., 1.],\n",
              "       [1., 1., 1., 1., 1., 1.],\n",
              "       [1., 1., 1., 1., 1., 1.]])"
            ]
          },
          "metadata": {},
          "execution_count": 16
        }
      ]
    },
    {
      "cell_type": "code",
      "source": [
        "lines=np.linspace(0,1,8)\n",
        "lines"
      ],
      "metadata": {
        "colab": {
          "base_uri": "https://localhost:8080/"
        },
        "id": "IhTkdGfnuXtu",
        "outputId": "2a2eb79f-b96b-49ac-9f1e-c2ebc8a8f97d"
      },
      "execution_count": null,
      "outputs": [
        {
          "output_type": "execute_result",
          "data": {
            "text/plain": [
              "array([0.        , 0.14285714, 0.28571429, 0.42857143, 0.57142857,\n",
              "       0.71428571, 0.85714286, 1.        ])"
            ]
          },
          "metadata": {},
          "execution_count": 9
        }
      ]
    },
    {
      "cell_type": "code",
      "source": [
        "full_array=np.full((2,3),8)\n",
        "full_array"
      ],
      "metadata": {
        "colab": {
          "base_uri": "https://localhost:8080/"
        },
        "id": "vRLOJuSXur9x",
        "outputId": "1844bc94-2a54-40d9-81f7-899036d44982"
      },
      "execution_count": null,
      "outputs": [
        {
          "output_type": "execute_result",
          "data": {
            "text/plain": [
              "array([[8, 8, 8],\n",
              "       [8, 8, 8]])"
            ]
          },
          "metadata": {},
          "execution_count": 14
        }
      ]
    },
    {
      "cell_type": "code",
      "source": [
        "print(np.eye(3))\n",
        "np.eye(4)"
      ],
      "metadata": {
        "colab": {
          "base_uri": "https://localhost:8080/"
        },
        "id": "rVe9XAVO8Agl",
        "outputId": "664f6b8b-8731-4667-ff74-677a6e841a2b"
      },
      "execution_count": null,
      "outputs": [
        {
          "output_type": "stream",
          "name": "stdout",
          "text": [
            "[[1. 0. 0.]\n",
            " [0. 1. 0.]\n",
            " [0. 0. 1.]]\n"
          ]
        },
        {
          "output_type": "execute_result",
          "data": {
            "text/plain": [
              "array([[1., 0., 0., 0.],\n",
              "       [0., 1., 0., 0.],\n",
              "       [0., 0., 1., 0.],\n",
              "       [0., 0., 0., 1.]])"
            ]
          },
          "metadata": {},
          "execution_count": 5
        }
      ]
    },
    {
      "cell_type": "code",
      "source": [
        "np.diag([1,2,3,4,5])"
      ],
      "metadata": {
        "colab": {
          "base_uri": "https://localhost:8080/"
        },
        "id": "P5FcHu1c2UnH",
        "outputId": "cb382193-1214-4241-9730-27f9f53e7295"
      },
      "execution_count": null,
      "outputs": [
        {
          "output_type": "execute_result",
          "data": {
            "text/plain": [
              "array([[1, 0, 0, 0, 0],\n",
              "       [0, 2, 0, 0, 0],\n",
              "       [0, 0, 3, 0, 0],\n",
              "       [0, 0, 0, 4, 0],\n",
              "       [0, 0, 0, 0, 5]])"
            ]
          },
          "metadata": {},
          "execution_count": 3
        }
      ]
    },
    {
      "cell_type": "code",
      "source": [
        "array1=np.array([1,2,3,4,5])\n",
        "array2=np.array([2,3,4,5,6])\n",
        "sum_array=np.add(array1,array2)\n",
        "subtract=np.subtract(array1,array2)\n",
        "multiply=np.multiply(array1,array2)\n",
        "divide=np.divide(array1,array2)"
      ],
      "metadata": {
        "colab": {
          "base_uri": "https://localhost:8080/"
        },
        "id": "daF7q7p42fDp",
        "outputId": "fe3e8523-aec4-4cfe-b673-1112ea88e94d"
      },
      "execution_count": null,
      "outputs": [
        {
          "output_type": "execute_result",
          "data": {
            "text/plain": [
              "array([ 3,  5,  7,  9, 11])"
            ]
          },
          "metadata": {},
          "execution_count": 4
        }
      ]
    },
    {
      "cell_type": "code",
      "source": [
        "#broadcasting\n",
        "a=np.array([[1,2,],[4,5,]]) #(2,2)\n",
        "b=np.array([1,2,3]) #(1,3)"
      ],
      "metadata": {
        "id": "qpA_0yiX2fO3"
      },
      "execution_count": 10,
      "outputs": []
    },
    {
      "cell_type": "code",
      "source": [
        "print(a+b)\n",
        "np.add(a,b)"
      ],
      "metadata": {
        "colab": {
          "base_uri": "https://localhost:8080/"
        },
        "id": "d3ULCz1m5o3P",
        "outputId": "533f6151-f83b-45f9-9054-ac8e3d039a7b"
      },
      "execution_count": 4,
      "outputs": [
        {
          "output_type": "stream",
          "name": "stdout",
          "text": [
            "[[2 4 6]\n",
            " [5 7 9]]\n"
          ]
        },
        {
          "output_type": "execute_result",
          "data": {
            "text/plain": [
              "array([[2, 4, 6],\n",
              "       [5, 7, 9]])"
            ]
          },
          "metadata": {},
          "execution_count": 4
        }
      ]
    },
    {
      "cell_type": "code",
      "source": [
        "c = np.array([10, 20])\n",
        "c.shape #（1,2）"
      ],
      "metadata": {
        "colab": {
          "base_uri": "https://localhost:8080/"
        },
        "id": "hwWu8Lwd2fSd",
        "outputId": "7da346b7-1117-4ca0-e605-4059a9e0c48c"
      },
      "execution_count": 11,
      "outputs": [
        {
          "output_type": "execute_result",
          "data": {
            "text/plain": [
              "(2,)"
            ]
          },
          "metadata": {},
          "execution_count": 11
        }
      ]
    },
    {
      "cell_type": "code",
      "source": [
        "np.add(c,a)"
      ],
      "metadata": {
        "id": "4dWWuDXE2fV_",
        "colab": {
          "base_uri": "https://localhost:8080/"
        },
        "outputId": "cbb5c753-5a3a-4656-d05e-c12a0ca0c928"
      },
      "execution_count": 12,
      "outputs": [
        {
          "output_type": "execute_result",
          "data": {
            "text/plain": [
              "array([[11, 22],\n",
              "       [14, 25]])"
            ]
          },
          "metadata": {},
          "execution_count": 12
        }
      ]
    },
    {
      "cell_type": "code",
      "source": [
        "A=np.array([1,2,3])\n",
        "np.sqrt(A)"
      ],
      "metadata": {
        "id": "yA8OjJSU2fbF",
        "colab": {
          "base_uri": "https://localhost:8080/"
        },
        "outputId": "5fe81e20-b131-4902-f883-d95d41875b23"
      },
      "execution_count": 13,
      "outputs": [
        {
          "output_type": "execute_result",
          "data": {
            "text/plain": [
              "array([1.        , 1.41421356, 1.73205081])"
            ]
          },
          "metadata": {},
          "execution_count": 13
        }
      ]
    },
    {
      "cell_type": "code",
      "source": [
        "np.exp(A)"
      ],
      "metadata": {
        "colab": {
          "base_uri": "https://localhost:8080/"
        },
        "id": "F-74W1T9BYuY",
        "outputId": "7cb3fd3d-5bda-452b-cad0-065151a84860"
      },
      "execution_count": 14,
      "outputs": [
        {
          "output_type": "execute_result",
          "data": {
            "text/plain": [
              "array([ 2.71828183,  7.3890561 , 20.08553692])"
            ]
          },
          "metadata": {},
          "execution_count": 14
        }
      ]
    },
    {
      "cell_type": "code",
      "source": [
        "np.log(A)"
      ],
      "metadata": {
        "colab": {
          "base_uri": "https://localhost:8080/"
        },
        "id": "ra-HO71WBa1D",
        "outputId": "114cd19a-126e-4309-d6a7-a12a971efebf"
      },
      "execution_count": 15,
      "outputs": [
        {
          "output_type": "execute_result",
          "data": {
            "text/plain": [
              "array([0.        , 0.69314718, 1.09861229])"
            ]
          },
          "metadata": {},
          "execution_count": 15
        }
      ]
    },
    {
      "cell_type": "code",
      "source": [
        "np.sum(A)"
      ],
      "metadata": {
        "colab": {
          "base_uri": "https://localhost:8080/"
        },
        "id": "wCej5mN9Bi_B",
        "outputId": "e81076d9-0cbd-4c58-e8cc-6241864c8e52"
      },
      "execution_count": 16,
      "outputs": [
        {
          "output_type": "execute_result",
          "data": {
            "text/plain": [
              "6"
            ]
          },
          "metadata": {},
          "execution_count": 16
        }
      ]
    },
    {
      "cell_type": "code",
      "source": [
        "D=np.array([1,2,3,4,5])\n",
        "print(D[4]==D[-1])\n",
        "sliced_D=D[2:4]\n",
        "print(sliced_D)\n",
        "print(D[-4:-2])\n",
        "print(D>3)\n",
        "print(D[D>3])"
      ],
      "metadata": {
        "colab": {
          "base_uri": "https://localhost:8080/"
        },
        "id": "et4lz0wxB4qu",
        "outputId": "f8fe55b0-1898-4f82-da42-edf2c6a715be"
      },
      "execution_count": 39,
      "outputs": [
        {
          "output_type": "stream",
          "name": "stdout",
          "text": [
            "True\n",
            "[3 4]\n",
            "[2 3]\n",
            "[False False False  True  True]\n",
            "[4 5]\n"
          ]
        }
      ]
    },
    {
      "cell_type": "code",
      "source": [
        "E=np.array([[1,2,3],[4,5,6],[7,8,9]])\n",
        "E[1,2]\n",
        "E[0,1]=99\n",
        "E\n",
        "sliced_E=E[1:3,:1]\n",
        "sliced_E"
      ],
      "metadata": {
        "colab": {
          "base_uri": "https://localhost:8080/"
        },
        "id": "wU9WZxsVB_M4",
        "outputId": "988a97bb-b016-46c2-fd99-1670c448ef41"
      },
      "execution_count": 29,
      "outputs": [
        {
          "output_type": "execute_result",
          "data": {
            "text/plain": [
              "array([[4],\n",
              "       [7]])"
            ]
          },
          "metadata": {},
          "execution_count": 29
        }
      ]
    },
    {
      "cell_type": "code",
      "source": [
        "step_lice=E[::2]\n",
        "print(E)\n",
        "step_lice"
      ],
      "metadata": {
        "colab": {
          "base_uri": "https://localhost:8080/"
        },
        "id": "qKb7ECv0DyFh",
        "outputId": "4f0444ea-a48e-4fae-b3e8-29ee14f4653d"
      },
      "execution_count": 36,
      "outputs": [
        {
          "output_type": "stream",
          "name": "stdout",
          "text": [
            "[[ 1 99  3]\n",
            " [ 4  5  6]\n",
            " [ 7  8  9]]\n"
          ]
        },
        {
          "output_type": "execute_result",
          "data": {
            "text/plain": [
              "array([[ 1, 99,  3],\n",
              "       [ 7,  8,  9]])"
            ]
          },
          "metadata": {},
          "execution_count": 36
        }
      ]
    },
    {
      "cell_type": "code",
      "source": [
        "D=np.array([1,2,3,4,5])\n",
        "print(D[[0,1,-1]]) #fancy_index\n",
        "D[0:2]=[99,66]\n",
        "print(D)\n",
        "print('---------------------------')\n",
        "E=np.array([[1,2,3],[5,6,7],[3,6,9]])\n",
        "fancy_index2d=E[[1,2],[0,2]]\n",
        "print(fancy_index2d)\n",
        "fancy_index2d=[44,55]\n",
        "print(fancy_index2d)\n",
        "E\n",
        "#fancy_index会把截取出来的数据新创建一个列表，再该表新列表的值，不会影响旧列表的值。并且可以无序获取数据，随便用index截取想要的值\n",
        "#普通的slice 必须是有序的，比如[start,end(exclude),step]，并且slice出来的值修改后会影响原列表的数据"
      ],
      "metadata": {
        "colab": {
          "base_uri": "https://localhost:8080/"
        },
        "id": "RT2WyOexHy3l",
        "outputId": "3f566380-f5c8-461d-9ff4-3631f5d52526"
      },
      "execution_count": 60,
      "outputs": [
        {
          "output_type": "stream",
          "name": "stdout",
          "text": [
            "[1 2 5]\n",
            "[99 66  3  4  5]\n",
            "---------------------------\n",
            "[5 9]\n",
            "[44, 55]\n"
          ]
        },
        {
          "output_type": "execute_result",
          "data": {
            "text/plain": [
              "array([[1, 2, 3],\n",
              "       [5, 6, 7],\n",
              "       [3, 6, 9]])"
            ]
          },
          "metadata": {},
          "execution_count": 60
        }
      ]
    },
    {
      "cell_type": "code",
      "source": [
        "arrays=np.arange(1,13)\n",
        "new = arrays.reshape((2,6))\n",
        "print(new)\n",
        "new.flatten() #这里会创新新数组，而不是copy"
      ],
      "metadata": {
        "colab": {
          "base_uri": "https://localhost:8080/"
        },
        "id": "LQlGDoPFUNvc",
        "outputId": "e947d99a-8f98-45ca-9fbf-61a95cfce28e"
      },
      "execution_count": 65,
      "outputs": [
        {
          "output_type": "stream",
          "name": "stdout",
          "text": [
            "[[ 1  2  3  4  5  6]\n",
            " [ 7  8  9 10 11 12]]\n"
          ]
        },
        {
          "output_type": "execute_result",
          "data": {
            "text/plain": [
              "array([ 1,  2,  3,  4,  5,  6,  7,  8,  9, 10, 11, 12])"
            ]
          },
          "metadata": {},
          "execution_count": 65
        }
      ]
    },
    {
      "cell_type": "code",
      "source": [
        "#concatenated\n",
        "array1=np.array([[1,2],[3,4]])\n",
        "array2=np.array([[5,6],[7,8]])\n",
        "print(array1)\n",
        "print(array2)\n",
        "print('---------------------------')\n",
        "concatenated_array=np.concatenate((array1,array2),axis=0)\n",
        "print(concatenated_array)\n",
        "print(concatenated_array.shape)\n",
        "print('---------------------------')\n",
        "concatenated_array=np.concatenate((array1,array2),axis=1)\n",
        "print(concatenated_array)\n",
        "print(concatenated_array.shape)\n",
        "#axis=0: Adds rows 横着,增加行数\n",
        "#axis=1: Adds columns 竖着切，增加列数\n",
        "# concatenated增加，split减少"
      ],
      "metadata": {
        "colab": {
          "base_uri": "https://localhost:8080/"
        },
        "id": "ij52DGFrUN9S",
        "outputId": "8605dc10-5196-411e-c196-87f6235065b7"
      },
      "execution_count": 90,
      "outputs": [
        {
          "output_type": "stream",
          "name": "stdout",
          "text": [
            "[[1 2]\n",
            " [3 4]]\n",
            "[[5 6]\n",
            " [7 8]]\n",
            "---------------------------\n",
            "[[1 2]\n",
            " [3 4]\n",
            " [5 6]\n",
            " [7 8]]\n",
            "(4, 2)\n",
            "---------------------------\n",
            "[[1 2 5 6]\n",
            " [3 4 7 8]]\n",
            "(2, 4)\n"
          ]
        }
      ]
    },
    {
      "cell_type": "code",
      "source": [
        "#split\n",
        "array = np.arange(12) #np.arange(1,13)\n",
        "reshaped_array=array.reshape((3,4))\n",
        "print(reshaped_array)\n",
        "split_array=np.split(array,3)\n",
        "print(split_array)\n",
        "print('----------------------------')\n",
        "split_reshaped_array=np.split(reshaped_array,3,axis=0)\n",
        "print(split_reshaped_array)\n",
        "print('----------------------------')\n",
        "split_reshaped_array=np.split(reshaped_array,2,axis=1)\n",
        "print(split_reshaped_array)"
      ],
      "metadata": {
        "colab": {
          "base_uri": "https://localhost:8080/"
        },
        "id": "K7EB2NsXUOFg",
        "outputId": "af88919d-4a85-4e0a-e15f-637839303f88"
      },
      "execution_count": 93,
      "outputs": [
        {
          "output_type": "stream",
          "name": "stdout",
          "text": [
            "[[ 0  1  2  3]\n",
            " [ 4  5  6  7]\n",
            " [ 8  9 10 11]]\n",
            "[array([0, 1, 2, 3]), array([4, 5, 6, 7]), array([ 8,  9, 10, 11])]\n",
            "----------------------------\n",
            "[array([[0, 1, 2, 3]]), array([[4, 5, 6, 7]]), array([[ 8,  9, 10, 11]])]\n",
            "----------------------------\n",
            "[array([[0, 1],\n",
            "       [4, 5],\n",
            "       [8, 9]]), array([[ 2,  3],\n",
            "       [ 6,  7],\n",
            "       [10, 11]])]\n"
          ]
        }
      ]
    },
    {
      "cell_type": "code",
      "source": [
        "np.mean(array)\n",
        "np.median(array)\n",
        "np.var(array)\n",
        "np.std(array)\n",
        "np.max(array)\n",
        "np.min(array)\n",
        "np.percentile(array,85)"
      ],
      "metadata": {
        "colab": {
          "base_uri": "https://localhost:8080/"
        },
        "id": "QCfKsGaBZ6FN",
        "outputId": "9ff63be9-fe1b-45e9-df0f-5c048e619f11"
      },
      "execution_count": 94,
      "outputs": [
        {
          "output_type": "execute_result",
          "data": {
            "text/plain": [
              "9.35"
            ]
          },
          "metadata": {},
          "execution_count": 94
        }
      ]
    },
    {
      "cell_type": "code",
      "source": [
        "vector_a=np.array([1,2,3])\n",
        "vector_b=np.array([4,5,6])\n",
        "dot_product=np.dot(vector_a,vector_b)\n",
        "print(dot_product)"
      ],
      "metadata": {
        "colab": {
          "base_uri": "https://localhost:8080/"
        },
        "id": "_3ULSrMgZ6H1",
        "outputId": "7650183e-f57c-4896-8f0f-61f44767ffa8"
      },
      "execution_count": 95,
      "outputs": [
        {
          "output_type": "stream",
          "name": "stdout",
          "text": [
            "32\n"
          ]
        }
      ]
    },
    {
      "cell_type": "code",
      "source": [
        "matrix_a=np.array([[1,2],[3,4]])\n",
        "matrix_b=np.array([[5,6],[7,8]])\n",
        "product=np.matmul(matrix_a,matrix_b)\n",
        "print(product)"
      ],
      "metadata": {
        "colab": {
          "base_uri": "https://localhost:8080/"
        },
        "id": "uzehFLRwZ6LQ",
        "outputId": "64a5002f-bf73-4575-dd10-4448b3b29b9d"
      },
      "execution_count": 96,
      "outputs": [
        {
          "output_type": "stream",
          "name": "stdout",
          "text": [
            "[[19 22]\n",
            " [43 50]]\n"
          ]
        }
      ]
    },
    {
      "cell_type": "code",
      "source": [
        "#structered array in numpy vs disctionary in python"
      ],
      "metadata": {
        "id": "mqCar6rkmqIr"
      },
      "execution_count": null,
      "outputs": []
    },
    {
      "cell_type": "code",
      "source": [
        "structured_array=np.array([(1,'Lucy',46),(2,'Charlie',25),(3,'Jack',16)],dtype=[('id','i4'),('name','U10'),('age','i4')])\n",
        "structured_array"
      ],
      "metadata": {
        "colab": {
          "base_uri": "https://localhost:8080/"
        },
        "id": "UQ8s52ddmqaq",
        "outputId": "47bb9b31-8116-4332-f22c-caf73e2e50e5"
      },
      "execution_count": 103,
      "outputs": [
        {
          "output_type": "execute_result",
          "data": {
            "text/plain": [
              "array([(1, 'Lucy', 46), (2, 'Charlie', 25), (3, 'Jack', 16)],\n",
              "      dtype=[('id', '<i4'), ('name', '<U10'), ('age', '<i4')])"
            ]
          },
          "metadata": {},
          "execution_count": 103
        }
      ]
    },
    {
      "cell_type": "code",
      "source": [
        "print(structured_array['name'])\n",
        "print(structured_array['age'])\n",
        "print(structured_array['id'])"
      ],
      "metadata": {
        "colab": {
          "base_uri": "https://localhost:8080/"
        },
        "id": "m-HZnvPFmqda",
        "outputId": "1d6dd880-61fa-45b3-b7fb-ef1d21a9dff1"
      },
      "execution_count": 104,
      "outputs": [
        {
          "output_type": "stream",
          "name": "stdout",
          "text": [
            "['Lucy' 'Charlie' 'Jack']\n",
            "[46 25 16]\n",
            "[1 2 3]\n"
          ]
        }
      ]
    },
    {
      "cell_type": "code",
      "source": [
        "structured_array['age']=[23,18,93]\n",
        "sorted_array=np.sort(structured_array,order='age')\n",
        "print(sorted_array)"
      ],
      "metadata": {
        "colab": {
          "base_uri": "https://localhost:8080/"
        },
        "id": "6cult_Rvmqgx",
        "outputId": "e95a719f-c7a1-44c8-a9d7-2c288a9dcac9"
      },
      "execution_count": 109,
      "outputs": [
        {
          "output_type": "stream",
          "name": "stdout",
          "text": [
            "[(2, 'Charlie', 18) (1, 'Lucy', 23) (3, 'Jack', 93)]\n"
          ]
        }
      ]
    },
    {
      "cell_type": "code",
      "source": [
        "filted_array=structured_array[structured_array['age']>20]\n",
        "print(filted_array)"
      ],
      "metadata": {
        "colab": {
          "base_uri": "https://localhost:8080/"
        },
        "id": "wEE1ldNQo161",
        "outputId": "b2c065d7-b4af-4e42-dfab-2b9d4efe9d36"
      },
      "execution_count": 111,
      "outputs": [
        {
          "output_type": "stream",
          "name": "stdout",
          "text": [
            "[(1, 'Lucy', 23) (3, 'Jack', 93)]\n"
          ]
        }
      ]
    },
    {
      "cell_type": "code",
      "source": [
        "data=[{'id':1,'name':'Alice','age':23},\n",
        "   {'id':2,'name':'jack','age':45}]\n",
        "# structured_wrong=np.array(data,dtype=[('id','i4'),('name','U10'),('age','i4')])\n",
        "# structured_wrong\n",
        "#传入的期望是可以直接转换成格式的数据，而不是列表。因此可以将数据都提取出来\n",
        "list_id=[]\n",
        "for i in data:\n",
        "  list_id.append(i['id'])\n",
        "\n",
        "list_id=[i['id'] for i in data]\n",
        "list_name=[i['name'] for i in data]\n",
        "list_age=[i['age'] for i in data]\n",
        "structured_data=np.array(list(zip(list_id,list_name,list_age)),dtype=[('id','i4'),('name','U10'),('age','i4')])\n",
        "structured_data\n",
        "#dtype和前面的数据格式和名称要对应，不然数据格式对应不了，比如u10,i4\n"
      ],
      "metadata": {
        "colab": {
          "base_uri": "https://localhost:8080/"
        },
        "id": "4yOacbxSpA7m",
        "outputId": "09ac5a41-4dac-4862-d22e-e693101db4c7"
      },
      "execution_count": 119,
      "outputs": [
        {
          "output_type": "execute_result",
          "data": {
            "text/plain": [
              "array([(1, 'Alice', 23), (2, 'jack', 45)],\n",
              "      dtype=[('id', '<i4'), ('name', '<U10'), ('age', '<i4')])"
            ]
          },
          "metadata": {},
          "execution_count": 119
        }
      ]
    }
  ]
}